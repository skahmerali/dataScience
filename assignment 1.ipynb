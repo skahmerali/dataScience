{
 "cells": [
  {
   "cell_type": "code",
   "execution_count": 32,
   "id": "0eeca117",
   "metadata": {},
   "outputs": [],
   "source": [
    "poem = \"twinkle ,twinkle little star, how i wonder what you areTwinkle, twinkle, little star,How I wonder what you are!Up above the world so high,Like a diamond in the sky.Twinkle, twinkle, little star,How I wonder what you are!\""
   ]
  },
  {
   "cell_type": "code",
   "execution_count": 33,
   "id": "f12dd393",
   "metadata": {},
   "outputs": [
    {
     "data": {
      "text/plain": [
       "'twinkle ,twinkle little star, how i wonder what you areTwinkle, twinkle, little star,How I wonder what you are!Up above the world so high,Like a diamond in the sky.Twinkle, twinkle, little star,How I wonder what you are!'"
      ]
     },
     "execution_count": 33,
     "metadata": {},
     "output_type": "execute_result"
    }
   ],
   "source": [
    "poem\n"
   ]
  },
  {
   "cell_type": "code",
   "execution_count": 17,
   "id": "aecad85a",
   "metadata": {},
   "outputs": [
    {
     "name": "stdout",
     "output_type": "stream",
     "text": [
      "this is a version of my phython  3.9.7 (default, Sep 16 2021, 16:59:28) [MSC v.1916 64 bit (AMD64)]\n"
     ]
    }
   ],
   "source": [
    "import sys\n",
    "print(\"this is a version of my phython \",sys.version)"
   ]
  },
  {
   "cell_type": "code",
   "execution_count": 21,
   "id": "a33347f6",
   "metadata": {},
   "outputs": [
    {
     "name": "stdout",
     "output_type": "stream",
     "text": [
      "today's date is 2022-01-03\n"
     ]
    }
   ],
   "source": [
    "from datetime import date\n",
    "print (\"today's date is\",date.today())"
   ]
  },
  {
   "cell_type": "code",
   "execution_count": 37,
   "id": "9c19427c",
   "metadata": {},
   "outputs": [
    {
     "name": "stdout",
     "output_type": "stream",
     "text": [
      "kindly enter a radiues of a circle  : 11\n",
      "Area of a circle = 379.940 : \n"
     ]
    }
   ],
   "source": [
    "value = float(input(\"kindly enter a radiues of a circle  : \"))\n",
    "PI = 3.14\n",
    "\n",
    "area = PI * value * value\n",
    "print(\"Area of a circle = %.3f : \" %area)"
   ]
  },
  {
   "cell_type": "code",
   "execution_count": 42,
   "id": "52aba303",
   "metadata": {},
   "outputs": [
    {
     "name": "stdout",
     "output_type": "stream",
     "text": [
      "write  your first name ahmer\n",
      "write  your last name ali\n",
      "ila remha\n"
     ]
    }
   ],
   "source": [
    "firstName = input(\"write  your first name \")[::-1]\n",
    "lastName= input(\"write  your last name \")[::-1]\n",
    "print(lastName + \" \"+ firstName)"
   ]
  },
  {
   "cell_type": "code",
   "execution_count": 48,
   "id": "a60648bc",
   "metadata": {},
   "outputs": [
    {
     "name": "stdout",
     "output_type": "stream",
     "text": [
      "give first number : 11\n",
      "give second input : 11\n",
      "Total is =  22.0\n"
     ]
    }
   ],
   "source": [
    "firstInput=float(input(\"give first number : \"))\n",
    "secondInput = float(input(\"give second input : \"))\n",
    "print(\"Total is = \" , firstInput + secondInput)"
   ]
  },
  {
   "cell_type": "markdown",
   "id": "73cefbb8",
   "metadata": {},
   "source": []
  },
  {
   "cell_type": "code",
   "execution_count": null,
   "id": "9c0dc187",
   "metadata": {},
   "outputs": [],
   "source": []
  }
 ],
 "metadata": {
  "kernelspec": {
   "display_name": "Python 3 (ipykernel)",
   "language": "python",
   "name": "python3"
  },
  "language_info": {
   "codemirror_mode": {
    "name": "ipython",
    "version": 3
   },
   "file_extension": ".py",
   "mimetype": "text/x-python",
   "name": "python",
   "nbconvert_exporter": "python",
   "pygments_lexer": "ipython3",
   "version": "3.9.7"
  }
 },
 "nbformat": 4,
 "nbformat_minor": 5
}
